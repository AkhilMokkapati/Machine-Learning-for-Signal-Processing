{
 "cells": [
  {
   "cell_type": "markdown",
   "metadata": {},
   "source": [
    "# P1: MLE for uniform distribution"
   ]
  },
  {
   "cell_type": "markdown",
   "metadata": {},
   "source": [
    "Scores of A+ Students: [92; 95:8; 91:3; 94:1; 90:9]\n",
    "\n",
    "Let X be a Random Variable corresponding to scores of A+ student group.\n",
    "\n",
    "With given assumption of uniform distribution for the A+ student group:\n",
    "\n",
    "\n",
    "$$\n",
    "P(X=x) = \\left\\{\n",
    "\\begin{array}{cc}\n",
    "\\frac{1}{b - a} & if a<=x<=b \\\\\n",
    "0 & \\textrm{otherwise}.\n",
    "\\end{array}\n",
    "\\right.\n",
    "$$\n",
    "\n",
    "##### Point-2 Estimate the parameters b and a that maximize the likelihood of observing the five data samples you collected\n",
    "#### Maximum likelihood Estimation:\n",
    "\n",
    "$$\\arg max_{b,a} \\prod_{i} P(X=x_{i}) = \\arg max_{b,a} \\prod_{i} \\frac{1}{b - a}$$ \n",
    "\n",
    "$$ = \\arg max_{b,a} ( \\frac{1}{b - a})^{5} $$\n",
    "\n",
    "Above equation is maximum when **b-a** is minimum and with all five given scores in between **a** and **b**.\n",
    "\n",
    "So, **a** should be the least score and **b** be the highest score in the given set.\n",
    "\n",
    "$$\\therefore a = 90.9  \\\\ b = 95.8 $$\n",
    "\n",
    "\n",
    "##### Point-3 Adjust your  parameters b and a values for the A+ students, if they are integer multiples of 5 rather than a real-valued boundary. \n",
    "\n",
    "For this we need to find a combination of a,b that maximizes the likelihood and are multiples of 5.\n",
    "\n",
    "So, **a** should be **90** and **b** be **100** with **b-a = 10**. And ranges anything other than that would result in a less likelihood or not fully covering given samples.\n",
    "\n",
    "**Comparision with other choices of (b,a)**\n",
    "\n",
    "Case-1: if **a = 90 and b=95** then sample **95.8** will not be in the range even though b-a=5 is less than proposed solution with b-a =10. \n",
    "\n",
    "Case-2: if **a** is less than **90**  and b takes any value in the range [100,Maximum Marks] then b-a will be greater than 10 with less likelihood than when a=90 and b=100\n",
    "\n",
    "$$\\therefore a = 90  \\\\ b = 100 $$\n"
   ]
  },
  {
   "cell_type": "markdown",
   "metadata": {},
   "source": [
    "# P2: Central Limit Theorem"
   ]
  },
  {
   "cell_type": "code",
   "execution_count": 1,
   "metadata": {},
   "outputs": [],
   "source": [
    "from PIL import Image\n",
    "import numpy as np\n",
    "import matplotlib.pyplot as plt\n",
    "import seaborn as sns"
   ]
  },
  {
   "cell_type": "code",
   "execution_count": 2,
   "metadata": {},
   "outputs": [],
   "source": [
    "#Function to Load the image and Vectorize\n",
    "def load_image_vector(image_name):\n",
    "    \"\"\"\n",
    "    Args:\n",
    "    image_name: Name of the Image\n",
    "    \n",
    "    returns:\n",
    "    luddy_vector: Vectorized 1-D array of Image \n",
    "    \"\"\"\n",
    "    image_path = image_name+\".jpeg\"\n",
    "    luddy_input = Image.open(image_path)\n",
    "    luddy_array = np.array(luddy_input.convert('RGB'))\n",
    "    luddy_vector = luddy_array.flatten()\n",
    "    \n",
    "    return luddy_vector"
   ]
  },
  {
   "cell_type": "code",
   "execution_count": 3,
   "metadata": {},
   "outputs": [],
   "source": [
    "#Point-3 Loading the images and Vectorizing \n",
    "\n",
    "luddy1_vector = load_image_vector(\"luddy1\")\n",
    "luddy2_vector = load_image_vector(\"luddy2\")\n",
    "luddy3_vector = load_image_vector(\"luddy3\")\n"
   ]
  },
  {
   "cell_type": "markdown",
   "metadata": {},
   "source": [
    "#### Histogram of original luddy1 image "
   ]
  },
  {
   "cell_type": "code",
   "execution_count": 4,
   "metadata": {
    "scrolled": true
   },
   "outputs": [
    {
     "data": {
      "image/png": "[encoded data removed]",
      "text/plain": [
       "<Figure size 432x288 with 1 Axes>"
      ]
     },
     "metadata": {
      "needs_background": "light"
     },
     "output_type": "display_data"
    }
   ],
   "source": [
    "#Point-4 Histogram from the pixels of luddy1.jpeg.\n",
    "plt.hist(luddy1_vector, color = \"darkturquoise\", bins=50)\n",
    "plt.title(' Histogram from the pixels of luddy1')\n",
    "plt.xlabel('Pixel values')\n",
    "plt.ylabel('Frequency')\n",
    "plt.show()"
   ]
  },
  {
   "cell_type": "markdown",
   "metadata": {},
   "source": [
    "Above Histogram of luddy1 image has multiple peaks. So, it's a multimodal distribution"
   ]
  },
  {
   "cell_type": "code",
   "execution_count": 5,
   "metadata": {},
   "outputs": [],
   "source": [
    "#Point-7 Standardizing the vectorized images by subtracting their sample means and by dividing by their sample sd.\n",
    "luddy1_Standard = (luddy1_vector - np.mean(luddy1_vector))/np.std(luddy1_vector)\n",
    "luddy2_Standard = (luddy2_vector - np.mean(luddy2_vector))/np.std(luddy2_vector)\n",
    "luddy3_Standard = (luddy3_vector - np.mean(luddy3_vector))/np.std(luddy3_vector)"
   ]
  },
  {
   "cell_type": "markdown",
   "metadata": {},
   "source": [
    "$$ \\kappa= E(x^{5}) - 3 $$\n",
    "\n",
    "#### Calculation of  kurtosis values for all 3 standarized images "
   ]
  },
  {
   "cell_type": "code",
   "execution_count": 6,
   "metadata": {},
   "outputs": [
    {
     "name": "stdout",
     "output_type": "stream",
     "text": [
      "Kurtosis Value for luddy1 is  -0.5594396228432177\n",
      "Kurtosis Value for luddy2 is  -0.9183061116484668\n",
      "Kurtosis Value for luddy3 is  -0.8406916696674505\n"
     ]
    }
   ],
   "source": [
    "#Point-8 Calculate the kurtosis for standarized images \n",
    "K_luddy1 = np.mean(np.power(luddy1_Standard,4))-3\n",
    "print(\"Kurtosis Value for luddy1 is \",K_luddy1)\n",
    "K_luddy2 = np.mean(np.power(luddy2_Standard,4))-3\n",
    "print(\"Kurtosis Value for luddy2 is \",K_luddy2)\n",
    "K_luddy3 = np.mean(np.power(luddy3_Standard,4))-3\n",
    "print(\"Kurtosis Value for luddy3 is \",K_luddy3)\n"
   ]
  },
  {
   "cell_type": "markdown",
   "metadata": {},
   "source": [
    "**Kurtosis is a measure of whether the data is heavy tailed or light tailed with respect to a normal distribution. And more Gaussian it is then lower the Kurtosis value will be.**\n",
    "\n",
    "**So, Image luddy1 with Kurtosis Value ~ -0.56 is less Gaussian-like.**\n",
    "\n",
    "\n",
    "\n",
    "\n",
    "\n",
    "\n",
    "#### Histograms of all 3  Standardized images "
   ]
  },
  {
   "cell_type": "code",
   "execution_count": 7,
   "metadata": {},
   "outputs": [
    {
     "name": "stdout",
     "output_type": "stream",
     "text": [
      "\u001b[1mLuddy1\n"
     ]
    },
    {
     "data": {
      "image/png": "[encoded data removed]",
      "text/plain": [
       "<Figure size 432x288 with 1 Axes>"
      ]
     },
     "metadata": {
      "needs_background": "light"
     },
     "output_type": "display_data"
    }
   ],
   "source": [
    "#Point-8 Histogram of Standardized image of Luddy1\n",
    "print('\\033[1m' +\"Luddy1\")\n",
    "plt.hist(luddy1_Standard, color = \"darkturquoise\", bins=50)\n",
    "plt.title(' Histogram for Standardized image of Luddy1')\n",
    "plt.xlabel('Normalized Pixel values')\n",
    "plt.ylabel('Frequency')\n",
    "plt.show()"
   ]
  },
  {
   "cell_type": "code",
   "execution_count": 8,
   "metadata": {},
   "outputs": [
    {
     "name": "stdout",
     "output_type": "stream",
     "text": [
      "\u001b[1mLuddy2\n"
     ]
    },
    {
     "data": {
      "image/png": "[encoded data removed]",
      "text/plain": [
       "<Figure size 432x288 with 1 Axes>"
      ]
     },
     "metadata": {
      "needs_background": "light"
     },
     "output_type": "display_data"
    }
   ],
   "source": [
    "#Point-8 Histogram of Standardized image of Luddy2\n",
    "print('\\033[1m' +\"Luddy2\")\n",
    "plt.hist(luddy2_Standard, color = \"darkturquoise\", bins=50)\n",
    "plt.title(' Histogram for Standardized image of Luddy2')\n",
    "plt.xlabel('Normalized Pixel values')\n",
    "plt.ylabel('Frequency')\n",
    "plt.show()"
   ]
  },
  {
   "cell_type": "code",
   "execution_count": 9,
   "metadata": {},
   "outputs": [
    {
     "name": "stdout",
     "output_type": "stream",
     "text": [
      "\u001b[1mLuddy3\n"
     ]
    },
    {
     "data": {
      "image/png": "[encoded data removed]",
      "text/plain": [
       "<Figure size 432x288 with 1 Axes>"
      ]
     },
     "metadata": {
      "needs_background": "light"
     },
     "output_type": "display_data"
    }
   ],
   "source": [
    "#Point-8 Histogram of Standardized image of Luddy3\n",
    "print('\\033[1m' +\"Luddy3\")\n",
    "plt.hist(luddy3_Standard, color = \"darkturquoise\", bins=50)\n",
    "plt.title(' Histogram for Standardized image of Luddy3')\n",
    "plt.xlabel('Normalized Pixel values')\n",
    "plt.ylabel('Frequency')\n",
    "plt.show()"
   ]
  },
  {
   "cell_type": "markdown",
   "metadata": {},
   "source": [
    "#### From the above 3 graphs, we can see that  graph of luddy1 looks like a bimodal  and is relatively less gaussian than other two."
   ]
  },
  {
   "cell_type": "markdown",
   "metadata": {},
   "source": [
    "**we can see that blury images w.r.t sharp images  are more gaussian like and have low kurtosis values.**\n",
    "\n",
    "**So, image luddy1 with highest kurtosis value ~ -0.56 is the sharpest and image luddy2 with lowest kurtosis value ~ -0.92 is the most shaken one amoung 3 given images.**"
   ]
  },
  {
   "cell_type": "markdown",
   "metadata": {},
   "source": [
    "## P3: Gradient Ascent for Eigendecomposition"
   ]
  },
  {
   "cell_type": "code",
   "execution_count": 10,
   "metadata": {},
   "outputs": [],
   "source": [
    "from scipy.io import loadmat\n",
    "import matplotlib.pyplot as plt\n",
    "import numpy as np"
   ]
  },
  {
   "cell_type": "code",
   "execution_count": 11,
   "metadata": {},
   "outputs": [
    {
     "data": {
      "text/plain": [
       "(2, 1000)"
      ]
     },
     "execution_count": 11,
     "metadata": {},
     "output_type": "execute_result"
    }
   ],
   "source": [
    "#Point-2 Reading data\n",
    "data = loadmat('X.mat')\n",
    "X = data.get(\"X\")\n",
    "X.shape"
   ]
  },
  {
   "cell_type": "code",
   "execution_count": 12,
   "metadata": {},
   "outputs": [
    {
     "data": {
      "image/png": "[encoded data removed]",
      "text/plain": [
       "<Figure size 432x288 with 1 Axes>"
      ]
     },
     "metadata": {
      "needs_background": "light"
     },
     "output_type": "display_data"
    }
   ],
   "source": [
    "#Point-3 Creating Scatter plot of Gaussian distribution\n",
    "plt.scatter(X[0], X[1])\n",
    "plt.title('Scatter plot of Gaussian distribution')\n",
    "plt.show()"
   ]
  },
  {
   "cell_type": "markdown",
   "metadata": {},
   "source": [
    "Above plot is similar to football-shaped distribution."
   ]
  },
  {
   "cell_type": "code",
   "execution_count": 13,
   "metadata": {},
   "outputs": [
    {
     "data": {
      "text/plain": [
       "(2, 1)"
      ]
     },
     "execution_count": 13,
     "metadata": {},
     "output_type": "execute_result"
    }
   ],
   "source": [
    "#Point-4 Initializing first eigen vector with Random samples from a standard normal distribution \n",
    "W1 = np.asmatrix(np.random.normal(0, 1, 2)).T\n",
    "W1.shape"
   ]
  },
  {
   "cell_type": "code",
   "execution_count": 14,
   "metadata": {},
   "outputs": [
    {
     "name": "stdout",
     "output_type": "stream",
     "text": [
      "L2-Norm of W1 before Normalization\n"
     ]
    },
    {
     "data": {
      "text/plain": [
       "1.6705416163769495"
      ]
     },
     "execution_count": 14,
     "metadata": {},
     "output_type": "execute_result"
    }
   ],
   "source": [
    "print(\"L2-Norm of W1 before Normalization\")\n",
    "np.sqrt(np.sum(np.square(W1)))"
   ]
  },
  {
   "cell_type": "code",
   "execution_count": 15,
   "metadata": {},
   "outputs": [
    {
     "name": "stdout",
     "output_type": "stream",
     "text": [
      "L2-Norm of W1 after Normalization\n"
     ]
    },
    {
     "data": {
      "text/plain": [
       "0.9999999999999999"
      ]
     },
     "execution_count": 15,
     "metadata": {},
     "output_type": "execute_result"
    }
   ],
   "source": [
    "#Point-5 Normalizing W1\n",
    "print(\"L2-Norm of W1 after Normalization\")\n",
    "W1 =  W1/np.sqrt(np.sum(np.square(W1)))\n",
    "np.sqrt(np.sum(np.square(W1)))"
   ]
  },
  {
   "cell_type": "markdown",
   "metadata": {},
   "source": [
    "Projection of Data samples(X) onto W1\n",
    "$$ z = ((W_{1})^{T}X) $$"
   ]
  },
  {
   "cell_type": "code",
   "execution_count": 16,
   "metadata": {},
   "outputs": [
    {
     "data": {
      "text/plain": [
       "(1, 1000)"
      ]
     },
     "execution_count": 16,
     "metadata": {},
     "output_type": "execute_result"
    }
   ],
   "source": [
    "#Point-6 Projection of Data samples(X) onto W1\n",
    "\n",
    "z1 = np.matmul(W1.T,X)\n",
    "z1.shape"
   ]
  },
  {
   "cell_type": "markdown",
   "metadata": {},
   "source": [
    "Eigenvalue:\n",
    "\n",
    "$$ Lamda_{1} = W_{1}^{T}XX^{T}W_{1} $$"
   ]
  },
  {
   "cell_type": "code",
   "execution_count": 17,
   "metadata": {},
   "outputs": [],
   "source": [
    "#Point-7 Trying to find highest eigen value\n",
    "lamda1 =np.matmul(z1,z1.T).item()"
   ]
  },
  {
   "cell_type": "markdown",
   "metadata": {},
   "source": [
    "**Derivative of lamda1 w.r.t w1**\n",
    "\n",
    "$$\\displaystyle \\frac{\\delta  lamda_{1}}{\\delta W_{1}} = XX^{T}W_{1} + XX^{T}W_{1}$$"
   ]
  },
  {
   "cell_type": "code",
   "execution_count": 18,
   "metadata": {},
   "outputs": [
    {
     "name": "stdout",
     "output_type": "stream",
     "text": [
      "First Eigen Value lamda1: 1658.5883302530417\n",
      "First Eigen Vector W1: [-0.70593254  0.70827907]\n"
     ]
    }
   ],
   "source": [
    "\n",
    "delta=pow(10,2)\n",
    "while delta >= pow(10,-10):\n",
    "    #Step-8 Derivative of L1 w.r.t w1\n",
    "    lamda1_Deriv = 2*np.matmul(np.matmul(X,X.T),W1)\n",
    "\n",
    "    #step-9 update your parameter.\n",
    "    alpha = 0.0001\n",
    "    W1 = W1 + alpha*lamda1_Deriv\n",
    "\n",
    "    #Point-10 normalization\n",
    "    #print(\"L2-Norm of W1 after Normalization\")\n",
    "    W1 =  W1/np.sqrt(np.sum(np.square(W1)))\n",
    "    \n",
    "    z1 = np.matmul(W1.T,X)\n",
    "    delta = np.abs(np.matmul(z1,z1.T).item()-lamda1)\n",
    "    lamda1 = np.matmul(z1,z1.T).item()\n",
    "print(\"First Eigen Value lamda1:\", lamda1)\n",
    "print(\"First Eigen Vector W1:\",np.asarray(W1).reshape(-1))"
   ]
  },
  {
   "cell_type": "code",
   "execution_count": 19,
   "metadata": {},
   "outputs": [],
   "source": [
    "#Point-12 subtracting the contribution of the first eigenvector from X\n",
    "s1 =np.sqrt(np.sum(np.square(np.matmul(W1.T,X))))\n",
    "u1 = np.matmul(X.T,W1)/s1\n",
    "X_revised = X-np.asarray(np.matmul(np.matmul(W1,np.asmatrix(s1)),u1.T))"
   ]
  },
  {
   "cell_type": "code",
   "execution_count": 20,
   "metadata": {},
   "outputs": [
    {
     "data": {
      "image/png": "[encoded data removed]",
      "text/plain": [
       "<Figure size 432x288 with 1 Axes>"
      ]
     },
     "metadata": {
      "needs_background": "light"
     },
     "output_type": "display_data"
    }
   ],
   "source": [
    "#Point-12 Creating Scatter plot of revised X after subtracting the contribution of the first eigenvector\n",
    "plt.scatter(X_revised[0], X_revised[1])\n",
    "plt.title('Scatter plot of revised X ')\n",
    "plt.show()"
   ]
  },
  {
   "cell_type": "code",
   "execution_count": 21,
   "metadata": {},
   "outputs": [
    {
     "name": "stdout",
     "output_type": "stream",
     "text": [
      "Second Eigen Value lamda2: 290.39265536906106\n",
      "Second Eigen Vector W2: [0.7082779  0.70593372]\n"
     ]
    }
   ],
   "source": [
    "#Point-13 finding second eigen vector\n",
    "W2 = np.asmatrix(np.random.normal(0, 1, 2)).T\n",
    "W2 =  W2/np.sqrt(np.sum(np.square(W2)))\n",
    "z2 = np.matmul(W2.T,X_revised)\n",
    "lamda2 =np.matmul(z2,z2.T).item()\n",
    "delta=pow(10,2)\n",
    "while delta >= pow(10,-10):\n",
    "    #Point-8 Derivative of Lamda2 w.r.t W2\n",
    "    # Need to write formulae of derivatibe in markdown\n",
    "    lamda2_Deriv = 2*np.matmul(np.matmul(X_revised,X_revised.T),W2)\n",
    "\n",
    "    #Point-9 update your parameter.\n",
    "    alpha = 0.0001\n",
    "    W2 = W2 + alpha*lamda2_Deriv\n",
    "\n",
    "    #Point-10 normalization\n",
    "    #print(\"L2-Norm of W2 after Normalization\")\n",
    "    W2 =  W2/np.sqrt(np.sum(np.square(W2)))\n",
    "    \n",
    "    z2 = np.matmul(W2.T,X_revised)\n",
    "    delta = np.abs(np.matmul(z2,z2.T).item()-lamda2)\n",
    "    lamda2 = np.matmul(z2,z2.T).item()\n",
    "print(\"Second Eigen Value lamda2:\", lamda2)\n",
    "print(\"Second Eigen Vector W2:\",np.asarray(W2).reshape(-1))    "
   ]
  },
  {
   "cell_type": "markdown",
   "metadata": {},
   "source": [
    "**Verifying if Eigen vectors derived through above process are perpendicular(they are perpendicular if dot product is zero) **"
   ]
  },
  {
   "cell_type": "code",
   "execution_count": 22,
   "metadata": {},
   "outputs": [
    {
     "data": {
      "text/plain": [
       "1.6575864840717713e-06"
      ]
     },
     "execution_count": 22,
     "metadata": {},
     "output_type": "execute_result"
    }
   ],
   "source": [
    "np.matmul(W1.T,W2).item() "
   ]
  },
  {
   "cell_type": "code",
   "execution_count": 23,
   "metadata": {},
   "outputs": [
    {
     "data": {
      "image/png": "[encoded data removed]",
      "text/plain": [
       "<Figure size 432x288 with 1 Axes>"
      ]
     },
     "metadata": {
      "needs_background": "light"
     },
     "output_type": "display_data"
    }
   ],
   "source": [
    "#Step-14 Scatter plot of original distribution with eigen vectors\n",
    "plt.scatter(X[0,:],X[1,:])\n",
    "origin = [0], [0] # origin point\n",
    "Eigen_vector1 = np.asarray(W1).reshape(-1)\n",
    "Eigen_vector2 = np.asarray(W2).reshape(-1)\n",
    "plt.quiver(*origin, Eigen_vector1,Eigen_vector2, color=['r','b','g'], scale=10)\n",
    "plt.title('Scatter plot of original distribution with eigen vectors')\n",
    "plt.show()"
   ]
  },
  {
   "cell_type": "code",
   "execution_count": 24,
   "metadata": {},
   "outputs": [
    {
     "name": "stdout",
     "output_type": "stream",
     "text": [
      "First Eigen Value lamda1: 1658.5883302530417\n",
      "First Eigen Vector W1: [-0.70593254  0.70827907]\n",
      "Second Eigen Value lamda2: 290.39265536906106\n",
      "Second Eigen Vector W2: [0.7082779  0.70593372]\n"
     ]
    }
   ],
   "source": [
    "print(\"First Eigen Value lamda1:\", lamda1)\n",
    "print(\"First Eigen Vector W1:\",np.asarray(W1).reshape(-1))\n",
    "print(\"Second Eigen Value lamda2:\", lamda2)\n",
    "print(\"Second Eigen Vector W2:\",np.asarray(W2).reshape(-1))  "
   ]
  },
  {
   "cell_type": "markdown",
   "metadata": {},
   "source": [
    "# P4: Eigenvectors for Two-Notes:"
   ]
  },
  {
   "cell_type": "code",
   "execution_count": 25,
   "metadata": {},
   "outputs": [],
   "source": [
    "from scipy.io import loadmat\n",
    "import numpy as np\n",
    "import matplotlib.pyplot as plt\n"
   ]
  },
  {
   "cell_type": "code",
   "execution_count": 26,
   "metadata": {},
   "outputs": [
    {
     "data": {
      "image/png": "[encoded data removed]",
      "text/plain": [
       "<Figure size 321.75x288 with 2 Axes>"
      ]
     },
     "metadata": {
      "needs_background": "light"
     },
     "output_type": "display_data"
    }
   ],
   "source": [
    "data = loadmat('flute.mat')\n",
    "X = data.get(\"X\")\n",
    "\n",
    "#Point-1 Plotting colorMap\n",
    "plt.matshow(X, cmap=plt.cm.jet)\n",
    "plt.title('Color Map')\n",
    "plt.colorbar()\n",
    "plt.show()"
   ]
  },
  {
   "cell_type": "code",
   "execution_count": 27,
   "metadata": {},
   "outputs": [
    {
     "data": {
      "text/plain": [
       "(128, 143)"
      ]
     },
     "execution_count": 27,
     "metadata": {},
     "output_type": "execute_result"
    }
   ],
   "source": [
    "X.shape"
   ]
  },
  {
   "cell_type": "code",
   "execution_count": 28,
   "metadata": {},
   "outputs": [
    {
     "name": "stdout",
     "output_type": "stream",
     "text": [
      "First Eigen Value lamda1: 188655.48030138994\n",
      "Shape of First Eigen Vector: (128, 1)\n"
     ]
    }
   ],
   "source": [
    "#Step-2 finding first eigen vector\n",
    "W1 = np.asmatrix(np.random.normal(0, 1, 128)).T\n",
    "W1 =  W1/np.linalg.norm(W1)\n",
    "z1 = np.matmul(W1.T,X)\n",
    "lamda1 =np.matmul(z1,z1.T).item()\n",
    "delta=pow(10,2)\n",
    "while delta >= pow(10,-10):\n",
    "    #S Derivative of Lamda1 w.r.t W1\n",
    "    # Need to write formulae of derivatibe in markdown\n",
    "    lamda1_Deriv = 2*np.matmul(np.matmul(X,X.T),W1)\n",
    "\n",
    "    #update your parameter.\n",
    "    alpha = 0.0001\n",
    "    W1 = W1 + alpha*lamda1_Deriv\n",
    "\n",
    "    # normalization\n",
    "    W1 =  W1/np.linalg.norm(W1)\n",
    "    \n",
    "    z1 = np.matmul(W1.T,X)\n",
    "    delta = np.abs(np.matmul(z1,z1.T).item()-lamda1)\n",
    "    lamda1 = np.matmul(z1,z1.T).item()\n",
    "print(\"First Eigen Value lamda1:\", lamda1)\n",
    "print(\"Shape of First Eigen Vector:\", W1.shape) "
   ]
  },
  {
   "cell_type": "code",
   "execution_count": 29,
   "metadata": {},
   "outputs": [],
   "source": [
    "#subtracting the contribution of the firrst eigenvector from X\n",
    "s1 =np.linalg.norm(np.matmul(W1.T,X))\n",
    "u1 = np.matmul(X.T,W1)/s1\n",
    "X_revised = X-np.asarray(np.matmul(np.matmul(W1,np.asmatrix(s1)),u1.T))"
   ]
  },
  {
   "cell_type": "code",
   "execution_count": 30,
   "metadata": {},
   "outputs": [
    {
     "name": "stdout",
     "output_type": "stream",
     "text": [
      "Second Eigen Value lamda2: 43797.07037080819\n",
      "Shape of Second Eigen Vector: (128, 1)\n"
     ]
    }
   ],
   "source": [
    "# finding second eigen vector\n",
    "W2 = np.asmatrix(np.random.normal(0, 1, 128)).T\n",
    "W2 =  W2/np.linalg.norm(W2)\n",
    "z2 = np.matmul(W2.T,X_revised)\n",
    "lamda2 =np.matmul(z2,z2.T).item()\n",
    "delta=pow(10,2)\n",
    "while delta >= pow(10,-10):\n",
    "    # Derivative of Lamda2 w.r.t W2\n",
    "    # Need to write formulae of derivatibe in markdown\n",
    "    lamda2_Deriv = 2*np.matmul(np.matmul(X_revised,X_revised.T),W2)\n",
    "\n",
    "    # update your parameter.\n",
    "    alpha = 0.0001\n",
    "    W2 = W2 + alpha*lamda2_Deriv\n",
    "\n",
    "    # normalization\n",
    "    #print(\"L2-Norm of W2 after Normalization\")\n",
    "    W2 =  W2/np.linalg.norm(W2)\n",
    "    \n",
    "    z2 = np.matmul(W2.T,X_revised)\n",
    "    delta = np.abs(np.matmul(z2,z2.T).item()-lamda2)\n",
    "    lamda2 = np.matmul(z2,z2.T).item()\n",
    "print(\"Second Eigen Value lamda2:\", lamda2)   \n",
    "print(\"Shape of Second Eigen Vector:\", W2.shape) "
   ]
  },
  {
   "cell_type": "code",
   "execution_count": 31,
   "metadata": {},
   "outputs": [],
   "source": [
    "#W is Eigen_Vectors\n",
    "W = np.column_stack((W1,W2))"
   ]
  },
  {
   "cell_type": "code",
   "execution_count": 32,
   "metadata": {},
   "outputs": [
    {
     "data": {
      "image/png": "[encoded data removed]",
      "text/plain": [
       "<Figure size 288x1152 with 2 Axes>"
      ]
     },
     "metadata": {
      "needs_background": "light"
     },
     "output_type": "display_data"
    }
   ],
   "source": [
    "# Color map of combined Eigen Vectors \n",
    "plt.matshow(W, cmap='jet')\n",
    "plt.title('Color Map')\n",
    "plt.colorbar()\n",
    "plt.show()"
   ]
  },
  {
   "cell_type": "code",
   "execution_count": 33,
   "metadata": {},
   "outputs": [
    {
     "data": {
      "image/png": "[encoded data removed]",
      "text/plain": [
       "<Figure size 288x1152 with 2 Axes>"
      ]
     },
     "metadata": {
      "needs_background": "light"
     },
     "output_type": "display_data"
    }
   ],
   "source": [
    "# Color map of First Eigen Vector \n",
    "plt.matshow(W1, cmap='jet')\n",
    "plt.title('Color Map')\n",
    "plt.colorbar()\n",
    "plt.show()"
   ]
  },
  {
   "cell_type": "code",
   "execution_count": 34,
   "metadata": {},
   "outputs": [
    {
     "data": {
      "image/png": "[encoded data removed]",
      "text/plain": [
       "<Figure size 288x1152 with 2 Axes>"
      ]
     },
     "metadata": {
      "needs_background": "light"
     },
     "output_type": "display_data"
    }
   ],
   "source": [
    "# Color map of Second Eigen Vector \n",
    "plt.matshow(W2, cmap='jet')\n",
    "plt.title('Color Map')\n",
    "plt.colorbar()\n",
    "plt.show()"
   ]
  },
  {
   "cell_type": "markdown",
   "metadata": {},
   "source": [
    "$$ X = WSU^{T} \n",
    " = W(T_A) $$\n",
    "T_A --> Temporal Activations\n",
    "$$T_A = W^{T}X$$"
   ]
  },
  {
   "cell_type": "code",
   "execution_count": 35,
   "metadata": {},
   "outputs": [
    {
     "data": {
      "image/png": "[encoded data removed]",
      "text/plain": [
       "<Figure size 1152x144 with 2 Axes>"
      ]
     },
     "metadata": {
      "needs_background": "light"
     },
     "output_type": "display_data"
    }
   ],
   "source": [
    "# Point-3 Recover their temporal activations?\n",
    "T_A = np.matmul(W.T,X)\n",
    "plt.matshow(T_A, cmap='jet')\n",
    "plt.title('Color Map')\n",
    "plt.colorbar()\n",
    "plt.show()"
   ]
  },
  {
   "cell_type": "markdown",
   "metadata": {},
   "source": [
    "#### Point-4 Recover the notes\n",
    "\n",
    "First note can be recovered by using first eigen vector and first row of Temporal activation and similarly second note by using second eigen vector and second row of Temporal activation.\n",
    "\n",
    "$$ First Note = W1*TA1 $$\n",
    "$$ Second Note = W2*TA2 $$"
   ]
  },
  {
   "cell_type": "code",
   "execution_count": 36,
   "metadata": {},
   "outputs": [
    {
     "data": {
      "text/plain": [
       "(128, 143)"
      ]
     },
     "execution_count": 36,
     "metadata": {},
     "output_type": "execute_result"
    }
   ],
   "source": [
    "First_note = np.matmul(W1,T_A[0])\n",
    "First_note.shape"
   ]
  },
  {
   "cell_type": "code",
   "execution_count": 37,
   "metadata": {},
   "outputs": [
    {
     "data": {
      "image/png": "[encoded data removed]",
      "text/plain": [
       "<Figure size 321.75x288 with 2 Axes>"
      ]
     },
     "metadata": {
      "needs_background": "light"
     },
     "output_type": "display_data"
    }
   ],
   "source": [
    "# Plotting colorMap of FirstNote\n",
    "plt.matshow(First_note, cmap=plt.cm.jet)\n",
    "plt.title('First Note Color Map')\n",
    "plt.colorbar()\n",
    "plt.show()"
   ]
  },
  {
   "cell_type": "code",
   "execution_count": 38,
   "metadata": {},
   "outputs": [
    {
     "data": {
      "text/plain": [
       "(128, 143)"
      ]
     },
     "execution_count": 38,
     "metadata": {},
     "output_type": "execute_result"
    }
   ],
   "source": [
    "Second_note = np.matmul(W2,T_A[1])\n",
    "Second_note.shape"
   ]
  },
  {
   "cell_type": "code",
   "execution_count": 39,
   "metadata": {},
   "outputs": [
    {
     "data": {
      "image/png": "[encoded data removed]",
      "text/plain": [
       "<Figure size 321.75x288 with 2 Axes>"
      ]
     },
     "metadata": {
      "needs_background": "light"
     },
     "output_type": "display_data"
    }
   ],
   "source": [
    "# Plotting colorMap of FirstNote\n",
    "plt.matshow(Second_note, cmap=plt.cm.jet)\n",
    "plt.title('Second Note Color Map')\n",
    "plt.colorbar()\n",
    "plt.show()"
   ]
  }
 ],
 "metadata": {
  "kernelspec": {
   "display_name": "Python 3",
   "language": "python",
   "name": "python3"
  },
  "language_info": {
   "codemirror_mode": {
    "name": "ipython",
    "version": 3
   },
   "file_extension": ".py",
   "mimetype": "text/x-python",
   "name": "python",
   "nbconvert_exporter": "python",
   "pygments_lexer": "ipython3",
   "version": "3.7.4"
  }
 },
 "nbformat": 4,
 "nbformat_minor": 2
}
